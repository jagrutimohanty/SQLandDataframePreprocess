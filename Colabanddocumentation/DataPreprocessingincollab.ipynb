{
  "nbformat": 4,
  "nbformat_minor": 0,
  "metadata": {
    "colab": {
      "name": "DataPreprocessingincollab.ipynb",
      "provenance": [],
      "toc_visible": true,
      "authorship_tag": "ABX9TyO7gEq2lh8z1loOLAueR3N8",
      "include_colab_link": true
    },
    "kernelspec": {
      "name": "python3",
      "display_name": "Python 3"
    },
    "language_info": {
      "name": "python"
    }
  },
  "cells": [
    {
      "cell_type": "markdown",
      "metadata": {
        "id": "view-in-github",
        "colab_type": "text"
      },
      "source": [
        "<a href=\"https://colab.research.google.com/github/jagrutimohanty/SQLandDataframePreprocess/blob/main/Colabanddocumentation/DataPreprocessingincollab.ipynb\" target=\"_parent\"><img src=\"https://colab.research.google.com/assets/colab-badge.svg\" alt=\"Open In Colab\"/></a>"
      ]
    },
    {
      "cell_type": "markdown",
      "metadata": {
        "id": "cVhqZSaAAkan"
      },
      "source": [
        "## Implemented the following :\n",
        "1. Loading the multiple datafiles using python\n",
        "2. Loading SQLite DB to Dataframe\n",
        "3. Wrting dataframe into the SQLite Database \n",
        "4. Given two dataframes returned the common columns\n",
        "5. Based on user input output of Nth percentile of numerical columns in dataframe\n"
      ]
    },
    {
      "cell_type": "markdown",
      "metadata": {
        "id": "jfClbi5N_eIC"
      },
      "source": [
        "### Broiler Plate for the code"
      ]
    },
    {
      "cell_type": "markdown",
      "metadata": {
        "id": "FVcGZ73q_034"
      },
      "source": [
        "Before implementing the the steps in the flask application worked the implementation of the following in collab notebook\n",
        "\n"
      ]
    },
    {
      "cell_type": "code",
      "metadata": {
        "id": "0Zv2NtyfDW6F"
      },
      "source": [
        "import pandas as pd\n",
        "import numpy as np\n",
        "from sklearn.preprocessing import LabelEncoder\n",
        "from sklearn.decomposition import PCA\n",
        "import tensorflow as tf\n",
        "import matplotlib.pyplot as plt\n",
        "import seaborn as sns\n",
        "from sklearn.preprocessing import OrdinalEncoder, LabelEncoder\n",
        "from sklearn.preprocessing import RobustScaler\n",
        "from sklearn import metrics\n",
        "from sklearn.ensemble import RandomForestClassifier\n",
        "from keras.utils import np_utils\n",
        "from pydrive.auth import GoogleAuth\n",
        "from pydrive.drive import GoogleDrive\n",
        "from google.colab import auth\n",
        "from oauth2client.client import GoogleCredentials\n",
        "from sklearn.neural_network import MLPClassifier\n",
        "from sklearn.model_selection import GridSearchCV"
      ],
      "execution_count": 2,
      "outputs": []
    },
    {
      "cell_type": "code",
      "metadata": {
        "id": "g9rh3pgKDdLY",
        "colab": {
          "base_uri": "https://localhost:8080/"
        },
        "outputId": "51871fdc-780a-4697-bac9-0fdb19a42443"
      },
      "source": [
        "import pandas as pd\n",
        "import numpy as np\n",
        "import tensorflow as tf\n",
        "import matplotlib.pyplot as plt\n",
        "import seaborn as sns\n",
        "import plotly.graph_objects as go\n",
        "import os\n",
        "import time\n",
        "\n",
        "from sklearn.preprocessing import LabelEncoder\n",
        "from sklearn.decomposition import PCA\n",
        "from sklearn.preprocessing import OrdinalEncoder, LabelEncoder\n",
        "from sklearn.preprocessing import RobustScaler, StandardScaler, MinMaxScaler\n",
        "from sklearn import metrics\n",
        "from sklearn.ensemble import RandomForestClassifier\n",
        "from sklearn.neural_network import MLPClassifier\n",
        "from sklearn.model_selection import GridSearchCV\n",
        "from sklearn.cluster import KMeans\n",
        "from sklearn.model_selection import train_test_split\n",
        "from sklearn.preprocessing import StandardScaler\n",
        "from sklearn.datasets import make_moons, make_circles, make_classification\n",
        "from sklearn.neural_network import MLPClassifier\n",
        "from sklearn.neighbors import KNeighborsClassifier\n",
        "from sklearn.svm import SVC\n",
        "from sklearn.gaussian_process.kernels import RBF\n",
        "from sklearn.tree import DecisionTreeClassifier\n",
        "from sklearn.ensemble import RandomForestClassifier, AdaBoostClassifier\n",
        "from sklearn.naive_bayes import GaussianNB\n",
        "from sklearn.model_selection import KFold\n",
        "from sklearn.ensemble import GradientBoostingClassifier\n",
        "from sklearn.metrics import make_scorer, accuracy_score, precision_score, recall_score, f1_score\n",
        "from sklearn.metrics import plot_confusion_matrix\n",
        "from sklearn.metrics import confusion_matrix\n",
        "from prettytable import PrettyTable\n",
        "from google.colab import drive\n",
        "from keras.utils import np_utils\n",
        "from matplotlib.pyplot import figure\n",
        "from imblearn.over_sampling import SMOTENC, SMOTE \n",
        "from matplotlib.colors import ListedColormap"
      ],
      "execution_count": 3,
      "outputs": [
        {
          "output_type": "stream",
          "text": [
            "/usr/local/lib/python3.7/dist-packages/sklearn/externals/six.py:31: FutureWarning:\n",
            "\n",
            "The module is deprecated in version 0.21 and will be removed in version 0.23 since we've dropped support for Python 2.7. Please rely on the official version of six (https://pypi.org/project/six/).\n",
            "\n",
            "/usr/local/lib/python3.7/dist-packages/sklearn/utils/deprecation.py:144: FutureWarning:\n",
            "\n",
            "The sklearn.neighbors.base module is  deprecated in version 0.22 and will be removed in version 0.24. The corresponding classes / functions should instead be imported from sklearn.neighbors. Anything that cannot be imported from sklearn.neighbors is now part of the private API.\n",
            "\n"
          ],
          "name": "stderr"
        }
      ]
    },
    {
      "cell_type": "code",
      "metadata": {
        "id": "ti2hYcPsACjZ"
      },
      "source": [
        ""
      ],
      "execution_count": null,
      "outputs": []
    },
    {
      "cell_type": "code",
      "metadata": {
        "id": "fIs2BtQ-CcXm"
      },
      "source": [
        "#Authenticate and create the PyDrive client\n",
        "auth.authenticate_user()\n",
        "gauth = GoogleAuth()\n",
        "gauth.credentials = GoogleCredentials.get_application_default()\n",
        "drive = GoogleDrive(gauth)"
      ],
      "execution_count": 4,
      "outputs": []
    },
    {
      "cell_type": "code",
      "metadata": {
        "id": "fZdBsnD_DROa"
      },
      "source": [
        "#Get the Shareable file link and get the contents\n",
        "downloaded = drive.CreateFile({'id':\"1xqwQDU50bRg17GhRWINbFldCLqCEIM77\"})   \n",
        "downloaded.GetContentFile('world-happiness-report-2021.csv') "
      ],
      "execution_count": null,
      "outputs": []
    },
    {
      "cell_type": "code",
      "metadata": {
        "colab": {
          "base_uri": "https://localhost:8080/",
          "height": 394
        },
        "id": "XNg_-KAvEYG_",
        "outputId": "95b683f6-1ccb-4748-b98c-8a2dfa461277"
      },
      "source": [
        "\n",
        "report21_df  = pd.read_csv('world-happiness-report-2021.csv', sep=',')\n",
        "report21_df.head()"
      ],
      "execution_count": null,
      "outputs": [
        {
          "output_type": "execute_result",
          "data": {
            "text/html": [
              "<div>\n",
              "<style scoped>\n",
              "    .dataframe tbody tr th:only-of-type {\n",
              "        vertical-align: middle;\n",
              "    }\n",
              "\n",
              "    .dataframe tbody tr th {\n",
              "        vertical-align: top;\n",
              "    }\n",
              "\n",
              "    .dataframe thead th {\n",
              "        text-align: right;\n",
              "    }\n",
              "</style>\n",
              "<table border=\"1\" class=\"dataframe\">\n",
              "  <thead>\n",
              "    <tr style=\"text-align: right;\">\n",
              "      <th></th>\n",
              "      <th>Country name</th>\n",
              "      <th>Regional indicator</th>\n",
              "      <th>Ladder score</th>\n",
              "      <th>Standard error of ladder score</th>\n",
              "      <th>upperwhisker</th>\n",
              "      <th>lowerwhisker</th>\n",
              "      <th>Logged GDP per capita</th>\n",
              "      <th>Social support</th>\n",
              "      <th>Healthy life expectancy</th>\n",
              "      <th>Freedom to make life choices</th>\n",
              "      <th>Generosity</th>\n",
              "      <th>Perceptions of corruption</th>\n",
              "      <th>Ladder score in Dystopia</th>\n",
              "      <th>Explained by: Log GDP per capita</th>\n",
              "      <th>Explained by: Social support</th>\n",
              "      <th>Explained by: Healthy life expectancy</th>\n",
              "      <th>Explained by: Freedom to make life choices</th>\n",
              "      <th>Explained by: Generosity</th>\n",
              "      <th>Explained by: Perceptions of corruption</th>\n",
              "      <th>Dystopia + residual</th>\n",
              "    </tr>\n",
              "  </thead>\n",
              "  <tbody>\n",
              "    <tr>\n",
              "      <th>0</th>\n",
              "      <td>Finland</td>\n",
              "      <td>Western Europe</td>\n",
              "      <td>7.842</td>\n",
              "      <td>0.032</td>\n",
              "      <td>7.904</td>\n",
              "      <td>7.780</td>\n",
              "      <td>10.775</td>\n",
              "      <td>0.954</td>\n",
              "      <td>72.0</td>\n",
              "      <td>0.949</td>\n",
              "      <td>-0.098</td>\n",
              "      <td>0.186</td>\n",
              "      <td>2.43</td>\n",
              "      <td>1.446</td>\n",
              "      <td>1.106</td>\n",
              "      <td>0.741</td>\n",
              "      <td>0.691</td>\n",
              "      <td>0.124</td>\n",
              "      <td>0.481</td>\n",
              "      <td>3.253</td>\n",
              "    </tr>\n",
              "    <tr>\n",
              "      <th>1</th>\n",
              "      <td>Denmark</td>\n",
              "      <td>Western Europe</td>\n",
              "      <td>7.620</td>\n",
              "      <td>0.035</td>\n",
              "      <td>7.687</td>\n",
              "      <td>7.552</td>\n",
              "      <td>10.933</td>\n",
              "      <td>0.954</td>\n",
              "      <td>72.7</td>\n",
              "      <td>0.946</td>\n",
              "      <td>0.030</td>\n",
              "      <td>0.179</td>\n",
              "      <td>2.43</td>\n",
              "      <td>1.502</td>\n",
              "      <td>1.108</td>\n",
              "      <td>0.763</td>\n",
              "      <td>0.686</td>\n",
              "      <td>0.208</td>\n",
              "      <td>0.485</td>\n",
              "      <td>2.868</td>\n",
              "    </tr>\n",
              "    <tr>\n",
              "      <th>2</th>\n",
              "      <td>Switzerland</td>\n",
              "      <td>Western Europe</td>\n",
              "      <td>7.571</td>\n",
              "      <td>0.036</td>\n",
              "      <td>7.643</td>\n",
              "      <td>7.500</td>\n",
              "      <td>11.117</td>\n",
              "      <td>0.942</td>\n",
              "      <td>74.4</td>\n",
              "      <td>0.919</td>\n",
              "      <td>0.025</td>\n",
              "      <td>0.292</td>\n",
              "      <td>2.43</td>\n",
              "      <td>1.566</td>\n",
              "      <td>1.079</td>\n",
              "      <td>0.816</td>\n",
              "      <td>0.653</td>\n",
              "      <td>0.204</td>\n",
              "      <td>0.413</td>\n",
              "      <td>2.839</td>\n",
              "    </tr>\n",
              "    <tr>\n",
              "      <th>3</th>\n",
              "      <td>Iceland</td>\n",
              "      <td>Western Europe</td>\n",
              "      <td>7.554</td>\n",
              "      <td>0.059</td>\n",
              "      <td>7.670</td>\n",
              "      <td>7.438</td>\n",
              "      <td>10.878</td>\n",
              "      <td>0.983</td>\n",
              "      <td>73.0</td>\n",
              "      <td>0.955</td>\n",
              "      <td>0.160</td>\n",
              "      <td>0.673</td>\n",
              "      <td>2.43</td>\n",
              "      <td>1.482</td>\n",
              "      <td>1.172</td>\n",
              "      <td>0.772</td>\n",
              "      <td>0.698</td>\n",
              "      <td>0.293</td>\n",
              "      <td>0.170</td>\n",
              "      <td>2.967</td>\n",
              "    </tr>\n",
              "    <tr>\n",
              "      <th>4</th>\n",
              "      <td>Netherlands</td>\n",
              "      <td>Western Europe</td>\n",
              "      <td>7.464</td>\n",
              "      <td>0.027</td>\n",
              "      <td>7.518</td>\n",
              "      <td>7.410</td>\n",
              "      <td>10.932</td>\n",
              "      <td>0.942</td>\n",
              "      <td>72.4</td>\n",
              "      <td>0.913</td>\n",
              "      <td>0.175</td>\n",
              "      <td>0.338</td>\n",
              "      <td>2.43</td>\n",
              "      <td>1.501</td>\n",
              "      <td>1.079</td>\n",
              "      <td>0.753</td>\n",
              "      <td>0.647</td>\n",
              "      <td>0.302</td>\n",
              "      <td>0.384</td>\n",
              "      <td>2.798</td>\n",
              "    </tr>\n",
              "  </tbody>\n",
              "</table>\n",
              "</div>"
            ],
            "text/plain": [
              "  Country name  ... Dystopia + residual\n",
              "0      Finland  ...               3.253\n",
              "1      Denmark  ...               2.868\n",
              "2  Switzerland  ...               2.839\n",
              "3      Iceland  ...               2.967\n",
              "4  Netherlands  ...               2.798\n",
              "\n",
              "[5 rows x 20 columns]"
            ]
          },
          "metadata": {
            "tags": []
          },
          "execution_count": 11
        }
      ]
    },
    {
      "cell_type": "code",
      "metadata": {
        "colab": {
          "base_uri": "https://localhost:8080/"
        },
        "id": "DRoJnZ2gHGEf",
        "outputId": "d9d054af-a9a9-4800-a596-f7ecf769560c"
      },
      "source": [
        "report21_df.columns"
      ],
      "execution_count": null,
      "outputs": [
        {
          "output_type": "execute_result",
          "data": {
            "text/plain": [
              "Index(['Country name', 'Regional indicator', 'Ladder score',\n",
              "       'Standard error of ladder score', 'upperwhisker', 'lowerwhisker',\n",
              "       'Logged GDP per capita', 'Social support', 'Healthy life expectancy',\n",
              "       'Freedom to make life choices', 'Generosity',\n",
              "       'Perceptions of corruption', 'Ladder score in Dystopia',\n",
              "       'Explained by: Log GDP per capita', 'Explained by: Social support',\n",
              "       'Explained by: Healthy life expectancy',\n",
              "       'Explained by: Freedom to make life choices',\n",
              "       'Explained by: Generosity', 'Explained by: Perceptions of corruption',\n",
              "       'Dystopia + residual'],\n",
              "      dtype='object')"
            ]
          },
          "metadata": {
            "tags": []
          },
          "execution_count": 14
        }
      ]
    },
    {
      "cell_type": "code",
      "metadata": {
        "id": "KHkj3eRnExu0"
      },
      "source": [
        "#Get the Shareable file link and get the contents\n",
        "downloaded = drive.CreateFile({'id':\"1vu5_rKxFZmAGnA24kssELqhTuOMLL46p\"})   \n",
        "downloaded.GetContentFile('world-happiness-report.csv') \n",
        "\n"
      ],
      "execution_count": null,
      "outputs": []
    },
    {
      "cell_type": "code",
      "metadata": {
        "colab": {
          "base_uri": "https://localhost:8080/",
          "height": 221
        },
        "id": "FoOYZCzZFbVS",
        "outputId": "0a7449e2-b878-4824-c80f-b8399894fe17"
      },
      "source": [
        "\n",
        "happiness_df = pd.read_csv('world-happiness-report.csv', sep=',')\n",
        "happiness_df.head()"
      ],
      "execution_count": null,
      "outputs": [
        {
          "output_type": "execute_result",
          "data": {
            "text/html": [
              "<div>\n",
              "<style scoped>\n",
              "    .dataframe tbody tr th:only-of-type {\n",
              "        vertical-align: middle;\n",
              "    }\n",
              "\n",
              "    .dataframe tbody tr th {\n",
              "        vertical-align: top;\n",
              "    }\n",
              "\n",
              "    .dataframe thead th {\n",
              "        text-align: right;\n",
              "    }\n",
              "</style>\n",
              "<table border=\"1\" class=\"dataframe\">\n",
              "  <thead>\n",
              "    <tr style=\"text-align: right;\">\n",
              "      <th></th>\n",
              "      <th>Country name</th>\n",
              "      <th>year</th>\n",
              "      <th>Life Ladder</th>\n",
              "      <th>Log GDP per capita</th>\n",
              "      <th>Social support</th>\n",
              "      <th>Healthy life expectancy at birth</th>\n",
              "      <th>Freedom to make life choices</th>\n",
              "      <th>Generosity</th>\n",
              "      <th>Perceptions of corruption</th>\n",
              "      <th>Positive affect</th>\n",
              "      <th>Negative affect</th>\n",
              "    </tr>\n",
              "  </thead>\n",
              "  <tbody>\n",
              "    <tr>\n",
              "      <th>0</th>\n",
              "      <td>Afghanistan</td>\n",
              "      <td>2008</td>\n",
              "      <td>3.724</td>\n",
              "      <td>7.370</td>\n",
              "      <td>0.451</td>\n",
              "      <td>50.80</td>\n",
              "      <td>0.718</td>\n",
              "      <td>0.168</td>\n",
              "      <td>0.882</td>\n",
              "      <td>0.518</td>\n",
              "      <td>0.258</td>\n",
              "    </tr>\n",
              "    <tr>\n",
              "      <th>1</th>\n",
              "      <td>Afghanistan</td>\n",
              "      <td>2009</td>\n",
              "      <td>4.402</td>\n",
              "      <td>7.540</td>\n",
              "      <td>0.552</td>\n",
              "      <td>51.20</td>\n",
              "      <td>0.679</td>\n",
              "      <td>0.190</td>\n",
              "      <td>0.850</td>\n",
              "      <td>0.584</td>\n",
              "      <td>0.237</td>\n",
              "    </tr>\n",
              "    <tr>\n",
              "      <th>2</th>\n",
              "      <td>Afghanistan</td>\n",
              "      <td>2010</td>\n",
              "      <td>4.758</td>\n",
              "      <td>7.647</td>\n",
              "      <td>0.539</td>\n",
              "      <td>51.60</td>\n",
              "      <td>0.600</td>\n",
              "      <td>0.121</td>\n",
              "      <td>0.707</td>\n",
              "      <td>0.618</td>\n",
              "      <td>0.275</td>\n",
              "    </tr>\n",
              "    <tr>\n",
              "      <th>3</th>\n",
              "      <td>Afghanistan</td>\n",
              "      <td>2011</td>\n",
              "      <td>3.832</td>\n",
              "      <td>7.620</td>\n",
              "      <td>0.521</td>\n",
              "      <td>51.92</td>\n",
              "      <td>0.496</td>\n",
              "      <td>0.162</td>\n",
              "      <td>0.731</td>\n",
              "      <td>0.611</td>\n",
              "      <td>0.267</td>\n",
              "    </tr>\n",
              "    <tr>\n",
              "      <th>4</th>\n",
              "      <td>Afghanistan</td>\n",
              "      <td>2012</td>\n",
              "      <td>3.783</td>\n",
              "      <td>7.705</td>\n",
              "      <td>0.521</td>\n",
              "      <td>52.24</td>\n",
              "      <td>0.531</td>\n",
              "      <td>0.236</td>\n",
              "      <td>0.776</td>\n",
              "      <td>0.710</td>\n",
              "      <td>0.268</td>\n",
              "    </tr>\n",
              "  </tbody>\n",
              "</table>\n",
              "</div>"
            ],
            "text/plain": [
              "  Country name  year  ...  Positive affect  Negative affect\n",
              "0  Afghanistan  2008  ...            0.518            0.258\n",
              "1  Afghanistan  2009  ...            0.584            0.237\n",
              "2  Afghanistan  2010  ...            0.618            0.275\n",
              "3  Afghanistan  2011  ...            0.611            0.267\n",
              "4  Afghanistan  2012  ...            0.710            0.268\n",
              "\n",
              "[5 rows x 11 columns]"
            ]
          },
          "metadata": {
            "tags": []
          },
          "execution_count": 13
        }
      ]
    },
    {
      "cell_type": "code",
      "metadata": {
        "colab": {
          "base_uri": "https://localhost:8080/",
          "height": 436
        },
        "id": "AG5Q4ObqOR9H",
        "outputId": "2a9a1fe2-f746-4e57-9834-3d3ae6803089"
      },
      "source": [
        "arr = list(report21_df.columns)\n",
        "sql_report_df = report21_df[arr[0:5]]\n",
        "print( arr[0:5])\n",
        "\n",
        "sql_report_df "
      ],
      "execution_count": null,
      "outputs": [
        {
          "output_type": "stream",
          "text": [
            "['Country name', 'Regional indicator', 'Ladder score', 'Standard error of ladder score', 'upperwhisker']\n"
          ],
          "name": "stdout"
        },
        {
          "output_type": "execute_result",
          "data": {
            "text/html": [
              "<div>\n",
              "<style scoped>\n",
              "    .dataframe tbody tr th:only-of-type {\n",
              "        vertical-align: middle;\n",
              "    }\n",
              "\n",
              "    .dataframe tbody tr th {\n",
              "        vertical-align: top;\n",
              "    }\n",
              "\n",
              "    .dataframe thead th {\n",
              "        text-align: right;\n",
              "    }\n",
              "</style>\n",
              "<table border=\"1\" class=\"dataframe\">\n",
              "  <thead>\n",
              "    <tr style=\"text-align: right;\">\n",
              "      <th></th>\n",
              "      <th>Country name</th>\n",
              "      <th>Regional indicator</th>\n",
              "      <th>Ladder score</th>\n",
              "      <th>Standard error of ladder score</th>\n",
              "      <th>upperwhisker</th>\n",
              "    </tr>\n",
              "  </thead>\n",
              "  <tbody>\n",
              "    <tr>\n",
              "      <th>0</th>\n",
              "      <td>Finland</td>\n",
              "      <td>Western Europe</td>\n",
              "      <td>7.842</td>\n",
              "      <td>0.032</td>\n",
              "      <td>7.904</td>\n",
              "    </tr>\n",
              "    <tr>\n",
              "      <th>1</th>\n",
              "      <td>Denmark</td>\n",
              "      <td>Western Europe</td>\n",
              "      <td>7.620</td>\n",
              "      <td>0.035</td>\n",
              "      <td>7.687</td>\n",
              "    </tr>\n",
              "    <tr>\n",
              "      <th>2</th>\n",
              "      <td>Switzerland</td>\n",
              "      <td>Western Europe</td>\n",
              "      <td>7.571</td>\n",
              "      <td>0.036</td>\n",
              "      <td>7.643</td>\n",
              "    </tr>\n",
              "    <tr>\n",
              "      <th>3</th>\n",
              "      <td>Iceland</td>\n",
              "      <td>Western Europe</td>\n",
              "      <td>7.554</td>\n",
              "      <td>0.059</td>\n",
              "      <td>7.670</td>\n",
              "    </tr>\n",
              "    <tr>\n",
              "      <th>4</th>\n",
              "      <td>Netherlands</td>\n",
              "      <td>Western Europe</td>\n",
              "      <td>7.464</td>\n",
              "      <td>0.027</td>\n",
              "      <td>7.518</td>\n",
              "    </tr>\n",
              "    <tr>\n",
              "      <th>...</th>\n",
              "      <td>...</td>\n",
              "      <td>...</td>\n",
              "      <td>...</td>\n",
              "      <td>...</td>\n",
              "      <td>...</td>\n",
              "    </tr>\n",
              "    <tr>\n",
              "      <th>144</th>\n",
              "      <td>Lesotho</td>\n",
              "      <td>Sub-Saharan Africa</td>\n",
              "      <td>3.512</td>\n",
              "      <td>0.120</td>\n",
              "      <td>3.748</td>\n",
              "    </tr>\n",
              "    <tr>\n",
              "      <th>145</th>\n",
              "      <td>Botswana</td>\n",
              "      <td>Sub-Saharan Africa</td>\n",
              "      <td>3.467</td>\n",
              "      <td>0.074</td>\n",
              "      <td>3.611</td>\n",
              "    </tr>\n",
              "    <tr>\n",
              "      <th>146</th>\n",
              "      <td>Rwanda</td>\n",
              "      <td>Sub-Saharan Africa</td>\n",
              "      <td>3.415</td>\n",
              "      <td>0.068</td>\n",
              "      <td>3.548</td>\n",
              "    </tr>\n",
              "    <tr>\n",
              "      <th>147</th>\n",
              "      <td>Zimbabwe</td>\n",
              "      <td>Sub-Saharan Africa</td>\n",
              "      <td>3.145</td>\n",
              "      <td>0.058</td>\n",
              "      <td>3.259</td>\n",
              "    </tr>\n",
              "    <tr>\n",
              "      <th>148</th>\n",
              "      <td>Afghanistan</td>\n",
              "      <td>South Asia</td>\n",
              "      <td>2.523</td>\n",
              "      <td>0.038</td>\n",
              "      <td>2.596</td>\n",
              "    </tr>\n",
              "  </tbody>\n",
              "</table>\n",
              "<p>149 rows × 5 columns</p>\n",
              "</div>"
            ],
            "text/plain": [
              "    Country name  ... upperwhisker\n",
              "0        Finland  ...        7.904\n",
              "1        Denmark  ...        7.687\n",
              "2    Switzerland  ...        7.643\n",
              "3        Iceland  ...        7.670\n",
              "4    Netherlands  ...        7.518\n",
              "..           ...  ...          ...\n",
              "144      Lesotho  ...        3.748\n",
              "145     Botswana  ...        3.611\n",
              "146       Rwanda  ...        3.548\n",
              "147     Zimbabwe  ...        3.259\n",
              "148  Afghanistan  ...        2.596\n",
              "\n",
              "[149 rows x 5 columns]"
            ]
          },
          "metadata": {
            "tags": []
          },
          "execution_count": 30
        }
      ]
    },
    {
      "cell_type": "markdown",
      "metadata": {
        "id": "ymWbfUwcBnff"
      },
      "source": [
        "# Listed the common columns of the two dataframes"
      ]
    },
    {
      "cell_type": "code",
      "metadata": {
        "colab": {
          "base_uri": "https://localhost:8080/"
        },
        "id": "aRAlhDL0HCOa",
        "outputId": "b36b1f57-c26b-48cb-8b31-efd53c6ff669"
      },
      "source": [
        "common_columns = list(set(list(report21_df.columns) + list(happiness_df.columns)))\n",
        "\n",
        "print(report21_df.shape)\n",
        "print(happiness_df.shape)\n",
        "print(len(common_columns))"
      ],
      "execution_count": null,
      "outputs": [
        {
          "output_type": "stream",
          "text": [
            "(149, 20)\n",
            "(1949, 11)\n",
            "26\n"
          ],
          "name": "stdout"
        }
      ]
    },
    {
      "cell_type": "code",
      "metadata": {
        "id": "SqAzRowoLNeg"
      },
      "source": [
        "#https://www.fullstackpython.com/blog/export-pandas-dataframes-sqlite-sqlalchemy.html\n",
        "\n",
        "#python -m venv pandasexport\n",
        "#source pandasexport/bin/activate\n",
        "\n",
        "#pip install pandas==1.0.3 sqlalchemy==1.3.15"
      ],
      "execution_count": null,
      "outputs": []
    },
    {
      "cell_type": "code",
      "metadata": {
        "colab": {
          "base_uri": "https://localhost:8080/"
        },
        "id": "RON_wNo9LxCD",
        "outputId": "e3d6121e-f444-4dd8-e4a7-6529d542c67c"
      },
      "source": [
        "pip install sqlalchemy"
      ],
      "execution_count": null,
      "outputs": [
        {
          "output_type": "stream",
          "text": [
            "Requirement already satisfied: sqlalchemy in /usr/local/lib/python3.7/dist-packages (1.4.3)\n",
            "Requirement already satisfied: importlib-metadata; python_version < \"3.8\" in /usr/local/lib/python3.7/dist-packages (from sqlalchemy) (3.8.1)\n",
            "Requirement already satisfied: greenlet!=0.4.17; python_version >= \"3\" in /usr/local/lib/python3.7/dist-packages (from sqlalchemy) (1.0.0)\n",
            "Requirement already satisfied: zipp>=0.5 in /usr/local/lib/python3.7/dist-packages (from importlib-metadata; python_version < \"3.8\"->sqlalchemy) (3.4.1)\n",
            "Requirement already satisfied: typing-extensions>=3.6.4; python_version < \"3.8\" in /usr/local/lib/python3.7/dist-packages (from importlib-metadata; python_version < \"3.8\"->sqlalchemy) (3.7.4.3)\n"
          ],
          "name": "stdout"
        }
      ]
    },
    {
      "cell_type": "code",
      "metadata": {
        "id": "qVoWhZz8L7yu"
      },
      "source": [
        "from sqlalchemy import create_engine"
      ],
      "execution_count": null,
      "outputs": []
    },
    {
      "cell_type": "markdown",
      "metadata": {
        "id": "smAwcKLyMCMd"
      },
      "source": [
        "Create the connection using the imported create_engine function and then invoking the connect method on it."
      ]
    },
    {
      "cell_type": "code",
      "metadata": {
        "id": "_fAn8B5UMEH7"
      },
      "source": [
        "engine = create_engine('sqlite:///save_pandas.db', echo=True)\n",
        "sqlite_connection = engine.connect()"
      ],
      "execution_count": null,
      "outputs": []
    },
    {
      "cell_type": "markdown",
      "metadata": {
        "id": "oAMy1VmvCH89"
      },
      "source": [
        "# from Dataframe into SQL "
      ]
    },
    {
      "cell_type": "code",
      "metadata": {
        "colab": {
          "base_uri": "https://localhost:8080/"
        },
        "id": "ehFp9M2_NoIE",
        "outputId": "a1fb8e89-d0be-4a12-9b9f-0b2d46ae8620"
      },
      "source": [
        "sqlite_table = \"report21_db\"\n",
        "sql_report_df.to_sql(sqlite_table, sqlite_connection, if_exists='fail')\n"
      ],
      "execution_count": null,
      "outputs": [
        {
          "output_type": "stream",
          "text": [
            "2021-04-10 05:49:15,243 INFO sqlalchemy.engine.Engine PRAGMA main.table_info(\"report21_db\")\n",
            "2021-04-10 05:49:15,245 INFO sqlalchemy.engine.Engine [raw sql] ()\n",
            "2021-04-10 05:49:15,249 INFO sqlalchemy.engine.Engine PRAGMA temp.table_info(\"report21_db\")\n",
            "2021-04-10 05:49:15,251 INFO sqlalchemy.engine.Engine [raw sql] ()\n",
            "2021-04-10 05:49:15,257 INFO sqlalchemy.engine.Engine \n",
            "CREATE TABLE report21_db (\n",
            "\t\"index\" BIGINT, \n",
            "\t\"Country name\" TEXT, \n",
            "\t\"Regional indicator\" TEXT, \n",
            "\t\"Ladder score\" FLOAT, \n",
            "\t\"Standard error of ladder score\" FLOAT, \n",
            "\tupperwhisker FLOAT\n",
            ")\n",
            "\n",
            "\n",
            "2021-04-10 05:49:15,259 INFO sqlalchemy.engine.Engine [no key 0.00215s] ()\n",
            "2021-04-10 05:49:15,278 INFO sqlalchemy.engine.Engine COMMIT\n",
            "2021-04-10 05:49:15,280 INFO sqlalchemy.engine.Engine CREATE INDEX ix_report21_db_index ON report21_db (\"index\")\n",
            "2021-04-10 05:49:15,283 INFO sqlalchemy.engine.Engine [no key 0.00270s] ()\n",
            "2021-04-10 05:49:15,298 INFO sqlalchemy.engine.Engine COMMIT\n",
            "2021-04-10 05:49:15,302 INFO sqlalchemy.engine.Engine BEGIN (implicit)\n",
            "2021-04-10 05:49:15,315 INFO sqlalchemy.engine.Engine INSERT INTO report21_db (\"index\", \"Country name\", \"Regional indicator\", \"Ladder score\", \"Standard error of ladder score\", upperwhisker) VALUES (?, ?, ?, ?, ?, ?)\n",
            "2021-04-10 05:49:15,318 INFO sqlalchemy.engine.Engine [generated in 0.00537s] ((0, 'Finland', 'Western Europe', 7.8420000000000005, 0.032, 7.904), (1, 'Denmark', 'Western Europe', 7.62, 0.035, 7.687), (2, 'Switzerland', 'Western Europe', 7.571000000000001, 0.036000000000000004, 7.643), (3, 'Iceland', 'Western Europe', 7.553999999999999, 0.059000000000000004, 7.67), (4, 'Netherlands', 'Western Europe', 7.4639999999999995, 0.027000000000000003, 7.518), (5, 'Norway', 'Western Europe', 7.392, 0.035, 7.462000000000001), (6, 'Sweden', 'Western Europe', 7.3629999999999995, 0.036000000000000004, 7.433), (7, 'Luxembourg', 'Western Europe', 7.324, 0.037000000000000005, 7.396)  ... displaying 10 of 149 total bound parameter sets ...  (147, 'Zimbabwe', 'Sub-Saharan Africa', 3.145, 0.057999999999999996, 3.259), (148, 'Afghanistan', 'South Asia', 2.523, 0.038, 2.596))\n",
            "2021-04-10 05:49:15,327 INFO sqlalchemy.engine.Engine COMMIT\n"
          ],
          "name": "stdout"
        }
      ]
    },
    {
      "cell_type": "code",
      "metadata": {
        "id": "3f53V2CVVCR_"
      },
      "source": [
        "sqlite_connection.close()"
      ],
      "execution_count": null,
      "outputs": []
    },
    {
      "cell_type": "code",
      "metadata": {
        "colab": {
          "base_uri": "https://localhost:8080/"
        },
        "id": "j8-jVp5CVLHk",
        "outputId": "266ea2ad-1c75-408c-da1b-91895ebfd2cc"
      },
      "source": [
        "sqlite_connection = engine.connect()\n",
        "r_set=sqlite_connection.execute('''select name from sqlite_master \n",
        "\t\twhere type = 'table' ''')\n",
        "for row in r_set:\n",
        "    print(row)"
      ],
      "execution_count": null,
      "outputs": [
        {
          "output_type": "stream",
          "text": [
            "2021-04-10 06:41:40,343 INFO sqlalchemy.engine.Engine select name from sqlite_master \n",
            "\t\twhere type = 'table' \n"
          ],
          "name": "stdout"
        },
        {
          "output_type": "stream",
          "text": [
            "INFO:sqlalchemy.engine.Engine:select name from sqlite_master \n",
            "\t\twhere type = 'table' \n"
          ],
          "name": "stderr"
        },
        {
          "output_type": "stream",
          "text": [
            "2021-04-10 06:41:40,347 INFO sqlalchemy.engine.Engine [raw sql] ()\n"
          ],
          "name": "stdout"
        },
        {
          "output_type": "stream",
          "text": [
            "INFO:sqlalchemy.engine.Engine:[raw sql] ()\n"
          ],
          "name": "stderr"
        },
        {
          "output_type": "stream",
          "text": [
            "('report21_db',)\n"
          ],
          "name": "stdout"
        }
      ]
    },
    {
      "cell_type": "code",
      "metadata": {
        "colab": {
          "base_uri": "https://localhost:8080/"
        },
        "id": "b7YnSvKKYLtC",
        "outputId": "04a0e2cd-687c-4d56-a0fb-cbe7165e8f64"
      },
      "source": [
        "r_set=sqlite_connection.execute('''SELECT * from report21_db''');\n",
        "for row in r_set:\n",
        "    print(row)"
      ],
      "execution_count": null,
      "outputs": [
        {
          "output_type": "stream",
          "text": [
            "2021-04-10 06:04:19,129 INFO sqlalchemy.engine.Engine SELECT * from report21_db\n"
          ],
          "name": "stdout"
        },
        {
          "output_type": "stream",
          "text": [
            "INFO:sqlalchemy.engine.Engine:SELECT * from report21_db\n"
          ],
          "name": "stderr"
        },
        {
          "output_type": "stream",
          "text": [
            "2021-04-10 06:04:19,136 INFO sqlalchemy.engine.Engine [raw sql] ()\n"
          ],
          "name": "stdout"
        },
        {
          "output_type": "stream",
          "text": [
            "INFO:sqlalchemy.engine.Engine:[raw sql] ()\n"
          ],
          "name": "stderr"
        },
        {
          "output_type": "stream",
          "text": [
            "(0, 'Finland', 'Western Europe', 7.8420000000000005, 0.032, 7.904)\n",
            "(1, 'Denmark', 'Western Europe', 7.62, 0.035, 7.687)\n",
            "(2, 'Switzerland', 'Western Europe', 7.571000000000001, 0.036000000000000004, 7.643)\n",
            "(3, 'Iceland', 'Western Europe', 7.553999999999999, 0.059000000000000004, 7.67)\n",
            "(4, 'Netherlands', 'Western Europe', 7.4639999999999995, 0.027000000000000003, 7.518)\n",
            "(5, 'Norway', 'Western Europe', 7.392, 0.035, 7.462000000000001)\n",
            "(6, 'Sweden', 'Western Europe', 7.3629999999999995, 0.036000000000000004, 7.433)\n",
            "(7, 'Luxembourg', 'Western Europe', 7.324, 0.037000000000000005, 7.396)\n",
            "(8, 'New Zealand', 'North America and ANZ', 7.277, 0.04, 7.355)\n",
            "(9, 'Austria', 'Western Europe', 7.268, 0.036000000000000004, 7.337000000000001)\n",
            "(10, 'Australia', 'North America and ANZ', 7.183, 0.040999999999999995, 7.265)\n",
            "(11, 'Israel', 'Middle East and North Africa', 7.157, 0.034, 7.224)\n",
            "(12, 'Germany', 'Western Europe', 7.155, 0.04, 7.232)\n",
            "(13, 'Canada', 'North America and ANZ', 7.103, 0.042, 7.185)\n",
            "(14, 'Ireland', 'Western Europe', 7.085, 0.04, 7.164)\n",
            "(15, 'Costa Rica', 'Latin America and Caribbean', 7.069, 0.055999999999999994, 7.178999999999999)\n",
            "(16, 'United Kingdom', 'Western Europe', 7.064, 0.038, 7.138)\n",
            "(17, 'Czech Republic', 'Central and Eastern Europe', 6.965, 0.049, 7.062)\n",
            "(18, 'United States', 'North America and ANZ', 6.9510000000000005, 0.049, 7.047000000000001)\n",
            "(19, 'Belgium', 'Western Europe', 6.834, 0.034, 6.901)\n",
            "(20, 'France', 'Western Europe', 6.69, 0.037000000000000005, 6.7620000000000005)\n",
            "(21, 'Bahrain', 'Middle East and North Africa', 6.647, 0.068, 6.779)\n",
            "(22, 'Malta', 'Western Europe', 6.602, 0.044000000000000004, 6.688)\n",
            "(23, 'Taiwan Province of China', 'East Asia', 6.584, 0.038, 6.659)\n",
            "(24, 'United Arab Emirates', 'Middle East and North Africa', 6.561, 0.039, 6.6370000000000005)\n",
            "(25, 'Saudi Arabia', 'Middle East and North Africa', 6.494, 0.055999999999999994, 6.604)\n",
            "(26, 'Spain', 'Western Europe', 6.4910000000000005, 0.042, 6.574)\n",
            "(27, 'Italy', 'Western Europe', 6.483, 0.045, 6.572)\n",
            "(28, 'Slovenia', 'Central and Eastern Europe', 6.461, 0.043, 6.546)\n",
            "(29, 'Guatemala', 'Latin America and Caribbean', 6.435, 0.073, 6.577000000000001)\n",
            "(30, 'Uruguay', 'Latin America and Caribbean', 6.431, 0.046, 6.521)\n",
            "(31, 'Singapore', 'Southeast Asia', 6.377000000000001, 0.043, 6.46)\n",
            "(32, 'Kosovo', 'Central and Eastern Europe', 6.372000000000001, 0.059000000000000004, 6.487)\n",
            "(33, 'Slovakia', 'Central and Eastern Europe', 6.331, 0.040999999999999995, 6.4110000000000005)\n",
            "(34, 'Brazil', 'Latin America and Caribbean', 6.33, 0.043, 6.415)\n",
            "(35, 'Mexico', 'Latin America and Caribbean', 6.317, 0.053, 6.42)\n",
            "(36, 'Jamaica', 'Latin America and Caribbean', 6.309, 0.156, 6.615)\n",
            "(37, 'Lithuania', 'Central and Eastern Europe', 6.255, 0.045, 6.343999999999999)\n",
            "(38, 'Cyprus', 'Western Europe', 6.223, 0.049, 6.319)\n",
            "(39, 'Estonia', 'Central and Eastern Europe', 6.189, 0.038, 6.263)\n",
            "(40, 'Panama', 'Latin America and Caribbean', 6.18, 0.073, 6.3229999999999995)\n",
            "(41, 'Uzbekistan', 'Commonwealth of Independent States', 6.178999999999999, 0.068, 6.312)\n",
            "(42, 'Chile', 'Latin America and Caribbean', 6.172000000000001, 0.046, 6.2620000000000005)\n",
            "(43, 'Poland', 'Central and Eastern Europe', 6.166, 0.04, 6.245)\n",
            "(44, 'Kazakhstan', 'Commonwealth of Independent States', 6.152, 0.047, 6.242999999999999)\n",
            "(45, 'Romania', 'Central and Eastern Europe', 6.14, 0.057, 6.252999999999999)\n",
            "(46, 'Kuwait', 'Middle East and North Africa', 6.106, 0.066, 6.235)\n",
            "(47, 'Serbia', 'Central and Eastern Europe', 6.077999999999999, 0.053, 6.181)\n",
            "(48, 'El Salvador', 'Latin America and Caribbean', 6.061, 0.065, 6.188)\n",
            "(49, 'Mauritius', 'Sub-Saharan Africa', 6.0489999999999995, 0.059000000000000004, 6.165)\n",
            "(50, 'Latvia', 'Central and Eastern Europe', 6.032, 0.036000000000000004, 6.103)\n",
            "(51, 'Colombia', 'Latin America and Caribbean', 6.0120000000000005, 0.061, 6.132000000000001)\n",
            "(52, 'Hungary', 'Central and Eastern Europe', 5.992000000000001, 0.047, 6.085)\n",
            "(53, 'Thailand', 'Southeast Asia', 5.985, 0.047, 6.077000000000001)\n",
            "(54, 'Nicaragua', 'Latin America and Caribbean', 5.972, 0.083, 6.1339999999999995)\n",
            "(55, 'Japan', 'East Asia', 5.94, 0.04, 6.02)\n",
            "(56, 'Argentina', 'Latin America and Caribbean', 5.928999999999999, 0.055999999999999994, 6.04)\n",
            "(57, 'Portugal', 'Western Europe', 5.928999999999999, 0.055, 6.037000000000001)\n",
            "(58, 'Honduras', 'Latin America and Caribbean', 5.919, 0.08199999999999999, 6.081)\n",
            "(59, 'Croatia', 'Central and Eastern Europe', 5.882000000000001, 0.048, 5.975)\n",
            "(60, 'Philippines', 'Southeast Asia', 5.88, 0.052000000000000005, 5.982)\n",
            "(61, 'South Korea', 'East Asia', 5.845, 0.042, 5.928)\n",
            "(62, 'Peru', 'Latin America and Caribbean', 5.84, 0.075, 5.9879999999999995)\n",
            "(63, 'Bosnia and Herzegovina', 'Central and Eastern Europe', 5.813, 0.05, 5.9110000000000005)\n",
            "(64, 'Moldova', 'Commonwealth of Independent States', 5.766, 0.046, 5.856)\n",
            "(65, 'Ecuador', 'Latin America and Caribbean', 5.763999999999999, 0.057, 5.875)\n",
            "(66, 'Kyrgyzstan', 'Commonwealth of Independent States', 5.744, 0.046, 5.834)\n",
            "(67, 'Greece', 'Western Europe', 5.723, 0.046, 5.813)\n",
            "(68, 'Bolivia', 'Latin America and Caribbean', 5.716, 0.053, 5.819)\n",
            "(69, 'Mongolia', 'East Asia', 5.6770000000000005, 0.042, 5.76)\n",
            "(70, 'Paraguay', 'Latin America and Caribbean', 5.653, 0.092, 5.832000000000001)\n",
            "(71, 'Montenegro', 'Central and Eastern Europe', 5.581, 0.054000000000000006, 5.686)\n",
            "(72, 'Dominican Republic', 'Latin America and Caribbean', 5.545, 0.071, 5.685)\n",
            "(73, 'North Cyprus', 'Western Europe', 5.5360000000000005, 0.051, 5.636)\n",
            "(74, 'Belarus', 'Commonwealth of Independent States', 5.534, 0.047, 5.625)\n",
            "(75, 'Russia', 'Commonwealth of Independent States', 5.477, 0.033, 5.541)\n",
            "(76, 'Hong Kong S.A.R. of China', 'East Asia', 5.477, 0.049, 5.5729999999999995)\n",
            "(77, 'Tajikistan', 'Commonwealth of Independent States', 5.466, 0.034, 5.532)\n",
            "(78, 'Vietnam', 'Southeast Asia', 5.4110000000000005, 0.039, 5.4879999999999995)\n",
            "(79, 'Libya', 'Middle East and North Africa', 5.41, 0.076, 5.558)\n",
            "(80, 'Malaysia', 'Southeast Asia', 5.3839999999999995, 0.049, 5.48)\n",
            "(81, 'Indonesia', 'Southeast Asia', 5.345, 0.055999999999999994, 5.454)\n",
            "(82, 'Congo (Brazzaville)', 'Sub-Saharan Africa', 5.3420000000000005, 0.09699999999999999, 5.5329999999999995)\n",
            "(83, 'China', 'East Asia', 5.3389999999999995, 0.028999999999999998, 5.397)\n",
            "(84, 'Ivory Coast', 'Sub-Saharan Africa', 5.306, 0.078, 5.46)\n",
            "(85, 'Armenia', 'Commonwealth of Independent States', 5.2829999999999995, 0.057999999999999996, 5.397)\n",
            "(86, 'Nepal', 'South Asia', 5.269, 0.07, 5.406000000000001)\n",
            "(87, 'Bulgaria', 'Central and Eastern Europe', 5.266, 0.054000000000000006, 5.371)\n",
            "(88, 'Maldives', 'South Asia', 5.1979999999999995, 0.07200000000000001, 5.3389999999999995)\n",
            "(89, 'Azerbaijan', 'Commonwealth of Independent States', 5.171, 0.04, 5.25)\n",
            "(90, 'Cameroon', 'Sub-Saharan Africa', 5.142, 0.07400000000000001, 5.287999999999999)\n",
            "(91, 'Senegal', 'Sub-Saharan Africa', 5.132000000000001, 0.068, 5.266)\n",
            "(92, 'Albania', 'Central and Eastern Europe', 5.117, 0.059000000000000004, 5.234)\n",
            "(93, 'North Macedonia', 'Central and Eastern Europe', 5.101, 0.051, 5.202000000000001)\n",
            "(94, 'Ghana', 'Sub-Saharan Africa', 5.088, 0.067, 5.218999999999999)\n",
            "(95, 'Niger', 'Sub-Saharan Africa', 5.074, 0.102, 5.273)\n",
            "(96, 'Turkmenistan', 'Commonwealth of Independent States', 5.066, 0.036000000000000004, 5.136)\n",
            "(97, 'Gambia', 'Sub-Saharan Africa', 5.051, 0.08900000000000001, 5.225)\n",
            "(98, 'Benin', 'Sub-Saharan Africa', 5.045, 0.073, 5.189)\n",
            "(99, 'Laos', 'Southeast Asia', 5.03, 0.045, 5.119)\n",
            "(100, 'Bangladesh', 'South Asia', 5.025, 0.046, 5.115)\n",
            "(101, 'Guinea', 'Sub-Saharan Africa', 4.984, 0.09, 5.16)\n",
            "(102, 'South Africa', 'Sub-Saharan Africa', 4.956, 0.06, 5.074)\n",
            "(103, 'Turkey', 'Middle East and North Africa', 4.948, 0.046, 5.038)\n",
            "(104, 'Pakistan', 'South Asia', 4.934, 0.068, 5.066)\n",
            "(105, 'Morocco', 'Middle East and North Africa', 4.918, 0.06, 5.0360000000000005)\n",
            "(106, 'Venezuela', 'Latin America and Caribbean', 4.8919999999999995, 0.064, 5.0169999999999995)\n",
            "(107, 'Georgia', 'Commonwealth of Independent States', 4.891, 0.054000000000000006, 4.998)\n",
            "(108, 'Algeria', 'Middle East and North Africa', 4.887, 0.053, 4.9910000000000005)\n",
            "(109, 'Ukraine', 'Commonwealth of Independent States', 4.875, 0.052000000000000005, 4.977)\n",
            "(110, 'Iraq', 'Middle East and North Africa', 4.854, 0.059000000000000004, 4.97)\n",
            "(111, 'Gabon', 'Sub-Saharan Africa', 4.852, 0.075, 4.998)\n",
            "(112, 'Burkina Faso', 'Sub-Saharan Africa', 4.834, 0.081, 4.993)\n",
            "(113, 'Cambodia', 'Southeast Asia', 4.83, 0.067, 4.963)\n",
            "(114, 'Mozambique', 'Sub-Saharan Africa', 4.794, 0.10300000000000001, 4.997)\n",
            "(115, 'Nigeria', 'Sub-Saharan Africa', 4.7589999999999995, 0.052000000000000005, 4.861000000000001)\n",
            "(116, 'Mali', 'Sub-Saharan Africa', 4.723, 0.08199999999999999, 4.8839999999999995)\n",
            "(117, 'Iran', 'Middle East and North Africa', 4.721, 0.055, 4.828)\n",
            "(118, 'Uganda', 'Sub-Saharan Africa', 4.636, 0.073, 4.78)\n",
            "(119, 'Liberia', 'Sub-Saharan Africa', 4.625, 0.106, 4.833)\n",
            "(120, 'Kenya', 'Sub-Saharan Africa', 4.607, 0.07200000000000001, 4.747)\n",
            "(121, 'Tunisia', 'Middle East and North Africa', 4.596, 0.057999999999999996, 4.709)\n",
            "(122, 'Lebanon', 'Middle East and North Africa', 4.584, 0.055, 4.691)\n",
            "(123, 'Namibia', 'Sub-Saharan Africa', 4.574, 0.064, 4.7)\n",
            "(124, 'Palestinian Territories', 'Middle East and North Africa', 4.5169999999999995, 0.067, 4.649)\n",
            "(125, 'Myanmar', 'Southeast Asia', 4.426, 0.052000000000000005, 4.527)\n",
            "(126, 'Jordan', 'Middle East and North Africa', 4.395, 0.062, 4.516)\n",
            "(127, 'Chad', 'Sub-Saharan Africa', 4.355, 0.094, 4.54)\n",
            "(128, 'Sri Lanka', 'South Asia', 4.325, 0.066, 4.454)\n",
            "(129, 'Swaziland', 'Sub-Saharan Africa', 4.308, 0.071, 4.448)\n",
            "(130, 'Comoros', 'Sub-Saharan Africa', 4.289, 0.084, 4.454)\n",
            "(131, 'Egypt', 'Middle East and North Africa', 4.283, 0.045, 4.371)\n",
            "(132, 'Ethiopia', 'Sub-Saharan Africa', 4.275, 0.051, 4.374)\n",
            "(133, 'Mauritania', 'Sub-Saharan Africa', 4.227, 0.07, 4.365)\n",
            "(134, 'Madagascar', 'Sub-Saharan Africa', 4.208, 0.07200000000000001, 4.349)\n",
            "(135, 'Togo', 'Sub-Saharan Africa', 4.107, 0.077, 4.258)\n",
            "(136, 'Zambia', 'Sub-Saharan Africa', 4.073, 0.069, 4.209)\n",
            "(137, 'Sierra Leone', 'Sub-Saharan Africa', 3.8489999999999998, 0.077, 4.001)\n",
            "(138, 'India', 'South Asia', 3.819, 0.026000000000000002, 3.8689999999999998)\n",
            "(139, 'Burundi', 'Sub-Saharan Africa', 3.775, 0.107, 3.985)\n",
            "(140, 'Yemen', 'Middle East and North Africa', 3.658, 0.07, 3.7939999999999996)\n",
            "(141, 'Tanzania', 'Sub-Saharan Africa', 3.623, 0.071, 3.762)\n",
            "(142, 'Haiti', 'Latin America and Caribbean', 3.615, 0.17300000000000001, 3.9530000000000003)\n",
            "(143, 'Malawi', 'Sub-Saharan Africa', 3.6, 0.092, 3.781)\n",
            "(144, 'Lesotho', 'Sub-Saharan Africa', 3.512, 0.12, 3.748)\n",
            "(145, 'Botswana', 'Sub-Saharan Africa', 3.467, 0.07400000000000001, 3.611)\n",
            "(146, 'Rwanda', 'Sub-Saharan Africa', 3.415, 0.068, 3.548)\n",
            "(147, 'Zimbabwe', 'Sub-Saharan Africa', 3.145, 0.057999999999999996, 3.259)\n",
            "(148, 'Afghanistan', 'South Asia', 2.523, 0.038, 2.596)\n"
          ],
          "name": "stdout"
        }
      ]
    },
    {
      "cell_type": "code",
      "metadata": {
        "id": "incnbIYBZSWT"
      },
      "source": [
        "import sqlite3"
      ],
      "execution_count": null,
      "outputs": []
    },
    {
      "cell_type": "code",
      "metadata": {
        "colab": {
          "base_uri": "https://localhost:8080/"
        },
        "id": "B8ZRqV5ob32G",
        "outputId": "25dbd575-9d00-4a4f-cf82-4bfe6ab9b5b9"
      },
      "source": [
        "sql_torepor21_df = pd.read_sql_query(\"SELECT * from report21_db\", sqlite_connection)\n",
        "\n",
        "# Verify that result of SQL query is stored in the dataframe\n",
        "print(sql_torepor21_df.head())"
      ],
      "execution_count": null,
      "outputs": [
        {
          "output_type": "stream",
          "text": [
            "2021-04-10 06:21:16,159 INFO sqlalchemy.engine.Engine SELECT * from report21_db\n"
          ],
          "name": "stdout"
        },
        {
          "output_type": "stream",
          "text": [
            "INFO:sqlalchemy.engine.Engine:SELECT * from report21_db\n"
          ],
          "name": "stderr"
        },
        {
          "output_type": "stream",
          "text": [
            "2021-04-10 06:21:16,165 INFO sqlalchemy.engine.Engine [raw sql] ()\n"
          ],
          "name": "stdout"
        },
        {
          "output_type": "stream",
          "text": [
            "INFO:sqlalchemy.engine.Engine:[raw sql] ()\n"
          ],
          "name": "stderr"
        },
        {
          "output_type": "stream",
          "text": [
            "   index Country name  ... Standard error of ladder score  upperwhisker\n",
            "0      0      Finland  ...                          0.032         7.904\n",
            "1      1      Denmark  ...                          0.035         7.687\n",
            "2      2  Switzerland  ...                          0.036         7.643\n",
            "3      3      Iceland  ...                          0.059         7.670\n",
            "4      4  Netherlands  ...                          0.027         7.518\n",
            "\n",
            "[5 rows x 6 columns]\n"
          ],
          "name": "stdout"
        }
      ]
    },
    {
      "cell_type": "markdown",
      "metadata": {
        "id": "R00HVz_4CA55"
      },
      "source": [
        "# From SQL into the dataframe"
      ]
    },
    {
      "cell_type": "code",
      "metadata": {
        "colab": {
          "base_uri": "https://localhost:8080/"
        },
        "id": "T4JGIjVIcT-I",
        "outputId": "12fcf93f-7e42-4d30-a4de-ca57503652a0"
      },
      "source": [
        "print(sql_torepor21_df.head())"
      ],
      "execution_count": null,
      "outputs": [
        {
          "output_type": "stream",
          "text": [
            "   index Country name  ... Standard error of ladder score  upperwhisker\n",
            "0      0      Finland  ...                          0.032         7.904\n",
            "1      1      Denmark  ...                          0.035         7.687\n",
            "2      2  Switzerland  ...                          0.036         7.643\n",
            "3      3      Iceland  ...                          0.059         7.670\n",
            "4      4  Netherlands  ...                          0.027         7.518\n",
            "\n",
            "[5 rows x 6 columns]\n"
          ],
          "name": "stdout"
        }
      ]
    },
    {
      "cell_type": "code",
      "metadata": {
        "colab": {
          "base_uri": "https://localhost:8080/",
          "height": 80
        },
        "id": "THs0VjqfdIy9",
        "outputId": "110960a2-c154-4436-9d23-d807db8eff23"
      },
      "source": [
        "# using quantile() function to\n",
        "# find the quantiles over the index axis\n",
        "sql_torepor21_df.quantile([ .75], axis = 0)"
      ],
      "execution_count": null,
      "outputs": [
        {
          "output_type": "execute_result",
          "data": {
            "text/html": [
              "<div>\n",
              "<style scoped>\n",
              "    .dataframe tbody tr th:only-of-type {\n",
              "        vertical-align: middle;\n",
              "    }\n",
              "\n",
              "    .dataframe tbody tr th {\n",
              "        vertical-align: top;\n",
              "    }\n",
              "\n",
              "    .dataframe thead th {\n",
              "        text-align: right;\n",
              "    }\n",
              "</style>\n",
              "<table border=\"1\" class=\"dataframe\">\n",
              "  <thead>\n",
              "    <tr style=\"text-align: right;\">\n",
              "      <th></th>\n",
              "      <th>index</th>\n",
              "      <th>Ladder score</th>\n",
              "      <th>Standard error of ladder score</th>\n",
              "      <th>upperwhisker</th>\n",
              "    </tr>\n",
              "  </thead>\n",
              "  <tbody>\n",
              "    <tr>\n",
              "      <th>0.75</th>\n",
              "      <td>111.0</td>\n",
              "      <td>6.255</td>\n",
              "      <td>0.07</td>\n",
              "      <td>6.344</td>\n",
              "    </tr>\n",
              "  </tbody>\n",
              "</table>\n",
              "</div>"
            ],
            "text/plain": [
              "      index  Ladder score  Standard error of ladder score  upperwhisker\n",
              "0.75  111.0         6.255                            0.07         6.344"
            ]
          },
          "metadata": {
            "tags": []
          },
          "execution_count": 46
        }
      ]
    },
    {
      "cell_type": "code",
      "metadata": {
        "colab": {
          "base_uri": "https://localhost:8080/",
          "height": 419
        },
        "id": "U0i1VYmGdrZ0",
        "outputId": "6067f6b7-095a-4df6-c07f-c8b484febd8f"
      },
      "source": [
        "sql_torepor21_df"
      ],
      "execution_count": null,
      "outputs": [
        {
          "output_type": "execute_result",
          "data": {
            "text/html": [
              "<div>\n",
              "<style scoped>\n",
              "    .dataframe tbody tr th:only-of-type {\n",
              "        vertical-align: middle;\n",
              "    }\n",
              "\n",
              "    .dataframe tbody tr th {\n",
              "        vertical-align: top;\n",
              "    }\n",
              "\n",
              "    .dataframe thead th {\n",
              "        text-align: right;\n",
              "    }\n",
              "</style>\n",
              "<table border=\"1\" class=\"dataframe\">\n",
              "  <thead>\n",
              "    <tr style=\"text-align: right;\">\n",
              "      <th></th>\n",
              "      <th>index</th>\n",
              "      <th>Country name</th>\n",
              "      <th>Regional indicator</th>\n",
              "      <th>Ladder score</th>\n",
              "      <th>Standard error of ladder score</th>\n",
              "      <th>upperwhisker</th>\n",
              "    </tr>\n",
              "  </thead>\n",
              "  <tbody>\n",
              "    <tr>\n",
              "      <th>0</th>\n",
              "      <td>0</td>\n",
              "      <td>Finland</td>\n",
              "      <td>Western Europe</td>\n",
              "      <td>7.842</td>\n",
              "      <td>0.032</td>\n",
              "      <td>7.904</td>\n",
              "    </tr>\n",
              "    <tr>\n",
              "      <th>1</th>\n",
              "      <td>1</td>\n",
              "      <td>Denmark</td>\n",
              "      <td>Western Europe</td>\n",
              "      <td>7.620</td>\n",
              "      <td>0.035</td>\n",
              "      <td>7.687</td>\n",
              "    </tr>\n",
              "    <tr>\n",
              "      <th>2</th>\n",
              "      <td>2</td>\n",
              "      <td>Switzerland</td>\n",
              "      <td>Western Europe</td>\n",
              "      <td>7.571</td>\n",
              "      <td>0.036</td>\n",
              "      <td>7.643</td>\n",
              "    </tr>\n",
              "    <tr>\n",
              "      <th>3</th>\n",
              "      <td>3</td>\n",
              "      <td>Iceland</td>\n",
              "      <td>Western Europe</td>\n",
              "      <td>7.554</td>\n",
              "      <td>0.059</td>\n",
              "      <td>7.670</td>\n",
              "    </tr>\n",
              "    <tr>\n",
              "      <th>4</th>\n",
              "      <td>4</td>\n",
              "      <td>Netherlands</td>\n",
              "      <td>Western Europe</td>\n",
              "      <td>7.464</td>\n",
              "      <td>0.027</td>\n",
              "      <td>7.518</td>\n",
              "    </tr>\n",
              "    <tr>\n",
              "      <th>...</th>\n",
              "      <td>...</td>\n",
              "      <td>...</td>\n",
              "      <td>...</td>\n",
              "      <td>...</td>\n",
              "      <td>...</td>\n",
              "      <td>...</td>\n",
              "    </tr>\n",
              "    <tr>\n",
              "      <th>144</th>\n",
              "      <td>144</td>\n",
              "      <td>Lesotho</td>\n",
              "      <td>Sub-Saharan Africa</td>\n",
              "      <td>3.512</td>\n",
              "      <td>0.120</td>\n",
              "      <td>3.748</td>\n",
              "    </tr>\n",
              "    <tr>\n",
              "      <th>145</th>\n",
              "      <td>145</td>\n",
              "      <td>Botswana</td>\n",
              "      <td>Sub-Saharan Africa</td>\n",
              "      <td>3.467</td>\n",
              "      <td>0.074</td>\n",
              "      <td>3.611</td>\n",
              "    </tr>\n",
              "    <tr>\n",
              "      <th>146</th>\n",
              "      <td>146</td>\n",
              "      <td>Rwanda</td>\n",
              "      <td>Sub-Saharan Africa</td>\n",
              "      <td>3.415</td>\n",
              "      <td>0.068</td>\n",
              "      <td>3.548</td>\n",
              "    </tr>\n",
              "    <tr>\n",
              "      <th>147</th>\n",
              "      <td>147</td>\n",
              "      <td>Zimbabwe</td>\n",
              "      <td>Sub-Saharan Africa</td>\n",
              "      <td>3.145</td>\n",
              "      <td>0.058</td>\n",
              "      <td>3.259</td>\n",
              "    </tr>\n",
              "    <tr>\n",
              "      <th>148</th>\n",
              "      <td>148</td>\n",
              "      <td>Afghanistan</td>\n",
              "      <td>South Asia</td>\n",
              "      <td>2.523</td>\n",
              "      <td>0.038</td>\n",
              "      <td>2.596</td>\n",
              "    </tr>\n",
              "  </tbody>\n",
              "</table>\n",
              "<p>149 rows × 6 columns</p>\n",
              "</div>"
            ],
            "text/plain": [
              "     index Country name  ... Standard error of ladder score  upperwhisker\n",
              "0        0      Finland  ...                          0.032         7.904\n",
              "1        1      Denmark  ...                          0.035         7.687\n",
              "2        2  Switzerland  ...                          0.036         7.643\n",
              "3        3      Iceland  ...                          0.059         7.670\n",
              "4        4  Netherlands  ...                          0.027         7.518\n",
              "..     ...          ...  ...                            ...           ...\n",
              "144    144      Lesotho  ...                          0.120         3.748\n",
              "145    145     Botswana  ...                          0.074         3.611\n",
              "146    146       Rwanda  ...                          0.068         3.548\n",
              "147    147     Zimbabwe  ...                          0.058         3.259\n",
              "148    148  Afghanistan  ...                          0.038         2.596\n",
              "\n",
              "[149 rows x 6 columns]"
            ]
          },
          "metadata": {
            "tags": []
          },
          "execution_count": 47
        }
      ]
    },
    {
      "cell_type": "code",
      "metadata": {
        "id": "PbKfsjC0daCV"
      },
      "source": [
        "def quantile_disp(df,n):\n",
        "    if(n<0 or n>100):\n",
        "      return \"Invalid Selection\"\n",
        "    else: \n",
        "       quan = n/100\n",
        "       res_df = df.quantile([ quan], axis = 0)\n",
        "       return res_df"
      ],
      "execution_count": null,
      "outputs": []
    },
    {
      "cell_type": "markdown",
      "metadata": {
        "id": "pFWwJwdmBzuB"
      },
      "source": [
        "# Function to display the nth Percentile of dataframe "
      ]
    },
    {
      "cell_type": "code",
      "metadata": {
        "colab": {
          "base_uri": "https://localhost:8080/",
          "height": 80
        },
        "id": "pZi3fyrleoah",
        "outputId": "96c41192-cb3e-4fc4-d542-6d988743ad17"
      },
      "source": [
        "quantile_disp(sql_torepor21_df,10)"
      ],
      "execution_count": null,
      "outputs": [
        {
          "output_type": "execute_result",
          "data": {
            "text/html": [
              "<div>\n",
              "<style scoped>\n",
              "    .dataframe tbody tr th:only-of-type {\n",
              "        vertical-align: middle;\n",
              "    }\n",
              "\n",
              "    .dataframe tbody tr th {\n",
              "        vertical-align: top;\n",
              "    }\n",
              "\n",
              "    .dataframe thead th {\n",
              "        text-align: right;\n",
              "    }\n",
              "</style>\n",
              "<table border=\"1\" class=\"dataframe\">\n",
              "  <thead>\n",
              "    <tr style=\"text-align: right;\">\n",
              "      <th></th>\n",
              "      <th>index</th>\n",
              "      <th>Ladder score</th>\n",
              "      <th>Standard error of ladder score</th>\n",
              "      <th>upperwhisker</th>\n",
              "    </tr>\n",
              "  </thead>\n",
              "  <tbody>\n",
              "    <tr>\n",
              "      <th>0.1</th>\n",
              "      <td>14.8</td>\n",
              "      <td>4.2232</td>\n",
              "      <td>0.0368</td>\n",
              "      <td>4.3618</td>\n",
              "    </tr>\n",
              "  </tbody>\n",
              "</table>\n",
              "</div>"
            ],
            "text/plain": [
              "     index  Ladder score  Standard error of ladder score  upperwhisker\n",
              "0.1   14.8        4.2232                          0.0368        4.3618"
            ]
          },
          "metadata": {
            "tags": []
          },
          "execution_count": 51
        }
      ]
    },
    {
      "cell_type": "code",
      "metadata": {
        "colab": {
          "base_uri": "https://localhost:8080/"
        },
        "id": "70M2lkbfi3Df",
        "outputId": "e2da8bc8-42cb-4b84-e3fb-f57e9774e80e"
      },
      "source": [
        "arr = list(report21_df.columns)\n",
        "df_tosql_report21 = report21_df[arr[6:8]]\n",
        "print( arr[6:8])\n",
        "\n",
        "sql_report_df \n",
        "#pd.read_sql_query(\"SELECT * from report21_db\", sqlite_connection)\n",
        "df_tosql_report21.to_sql('dftosqlreport21', con=sqlite_connection)\n",
        "sqlite_connection.execute(\"SELECT * FROM dftosqlreport21\").fetchall()"
      ],
      "execution_count": null,
      "outputs": [
        {
          "output_type": "stream",
          "text": [
            "['Logged GDP per capita', 'Social support']\n",
            "2021-04-10 06:53:35,324 INFO sqlalchemy.engine.Engine PRAGMA main.table_info(\"dftosqlreport21\")\n"
          ],
          "name": "stdout"
        },
        {
          "output_type": "stream",
          "text": [
            "INFO:sqlalchemy.engine.Engine:PRAGMA main.table_info(\"dftosqlreport21\")\n"
          ],
          "name": "stderr"
        },
        {
          "output_type": "stream",
          "text": [
            "2021-04-10 06:53:35,328 INFO sqlalchemy.engine.Engine [raw sql] ()\n"
          ],
          "name": "stdout"
        },
        {
          "output_type": "stream",
          "text": [
            "INFO:sqlalchemy.engine.Engine:[raw sql] ()\n"
          ],
          "name": "stderr"
        },
        {
          "output_type": "stream",
          "text": [
            "2021-04-10 06:53:35,333 INFO sqlalchemy.engine.Engine PRAGMA temp.table_info(\"dftosqlreport21\")\n"
          ],
          "name": "stdout"
        },
        {
          "output_type": "stream",
          "text": [
            "INFO:sqlalchemy.engine.Engine:PRAGMA temp.table_info(\"dftosqlreport21\")\n"
          ],
          "name": "stderr"
        },
        {
          "output_type": "stream",
          "text": [
            "2021-04-10 06:53:35,336 INFO sqlalchemy.engine.Engine [raw sql] ()\n"
          ],
          "name": "stdout"
        },
        {
          "output_type": "stream",
          "text": [
            "INFO:sqlalchemy.engine.Engine:[raw sql] ()\n"
          ],
          "name": "stderr"
        },
        {
          "output_type": "stream",
          "text": [
            "2021-04-10 06:53:35,341 INFO sqlalchemy.engine.Engine \n",
            "CREATE TABLE dftosqlreport21 (\n",
            "\t\"index\" BIGINT, \n",
            "\t\"Logged GDP per capita\" FLOAT, \n",
            "\t\"Social support\" FLOAT\n",
            ")\n",
            "\n",
            "\n"
          ],
          "name": "stdout"
        },
        {
          "output_type": "stream",
          "text": [
            "INFO:sqlalchemy.engine.Engine:\n",
            "CREATE TABLE dftosqlreport21 (\n",
            "\t\"index\" BIGINT, \n",
            "\t\"Logged GDP per capita\" FLOAT, \n",
            "\t\"Social support\" FLOAT\n",
            ")\n",
            "\n",
            "\n"
          ],
          "name": "stderr"
        },
        {
          "output_type": "stream",
          "text": [
            "2021-04-10 06:53:35,344 INFO sqlalchemy.engine.Engine [no key 0.00278s] ()\n"
          ],
          "name": "stdout"
        },
        {
          "output_type": "stream",
          "text": [
            "INFO:sqlalchemy.engine.Engine:[no key 0.00278s] ()\n"
          ],
          "name": "stderr"
        },
        {
          "output_type": "stream",
          "text": [
            "2021-04-10 06:53:35,363 INFO sqlalchemy.engine.Engine COMMIT\n"
          ],
          "name": "stdout"
        },
        {
          "output_type": "stream",
          "text": [
            "INFO:sqlalchemy.engine.Engine:COMMIT\n"
          ],
          "name": "stderr"
        },
        {
          "output_type": "stream",
          "text": [
            "2021-04-10 06:53:35,365 INFO sqlalchemy.engine.Engine CREATE INDEX ix_dftosqlreport21_index ON dftosqlreport21 (\"index\")\n"
          ],
          "name": "stdout"
        },
        {
          "output_type": "stream",
          "text": [
            "INFO:sqlalchemy.engine.Engine:CREATE INDEX ix_dftosqlreport21_index ON dftosqlreport21 (\"index\")\n"
          ],
          "name": "stderr"
        },
        {
          "output_type": "stream",
          "text": [
            "2021-04-10 06:53:35,369 INFO sqlalchemy.engine.Engine [no key 0.00393s] ()\n"
          ],
          "name": "stdout"
        },
        {
          "output_type": "stream",
          "text": [
            "INFO:sqlalchemy.engine.Engine:[no key 0.00393s] ()\n"
          ],
          "name": "stderr"
        },
        {
          "output_type": "stream",
          "text": [
            "2021-04-10 06:53:35,385 INFO sqlalchemy.engine.Engine COMMIT\n"
          ],
          "name": "stdout"
        },
        {
          "output_type": "stream",
          "text": [
            "INFO:sqlalchemy.engine.Engine:COMMIT\n"
          ],
          "name": "stderr"
        },
        {
          "output_type": "stream",
          "text": [
            "2021-04-10 06:53:35,389 INFO sqlalchemy.engine.Engine BEGIN (implicit)\n"
          ],
          "name": "stdout"
        },
        {
          "output_type": "stream",
          "text": [
            "INFO:sqlalchemy.engine.Engine:BEGIN (implicit)\n"
          ],
          "name": "stderr"
        },
        {
          "output_type": "stream",
          "text": [
            "2021-04-10 06:53:35,397 INFO sqlalchemy.engine.Engine INSERT INTO dftosqlreport21 (\"index\", \"Logged GDP per capita\", \"Social support\") VALUES (?, ?, ?)\n"
          ],
          "name": "stdout"
        },
        {
          "output_type": "stream",
          "text": [
            "INFO:sqlalchemy.engine.Engine:INSERT INTO dftosqlreport21 (\"index\", \"Logged GDP per capita\", \"Social support\") VALUES (?, ?, ?)\n"
          ],
          "name": "stderr"
        },
        {
          "output_type": "stream",
          "text": [
            "2021-04-10 06:53:35,402 INFO sqlalchemy.engine.Engine [generated in 0.00673s] ((0, 10.775, 0.9540000000000001), (1, 10.933, 0.9540000000000001), (2, 11.117, 0.9420000000000001), (3, 10.878, 0.983), (4, 10.932, 0.9420000000000001), (5, 11.052999999999999, 0.9540000000000001), (6, 10.867, 0.934), (7, 11.647, 0.9079999999999999)  ... displaying 10 of 149 total bound parameter sets ...  (147, 7.943, 0.75), (148, 7.695, 0.46299999999999997))\n"
          ],
          "name": "stdout"
        },
        {
          "output_type": "stream",
          "text": [
            "INFO:sqlalchemy.engine.Engine:[generated in 0.00673s] ((0, 10.775, 0.9540000000000001), (1, 10.933, 0.9540000000000001), (2, 11.117, 0.9420000000000001), (3, 10.878, 0.983), (4, 10.932, 0.9420000000000001), (5, 11.052999999999999, 0.9540000000000001), (6, 10.867, 0.934), (7, 11.647, 0.9079999999999999)  ... displaying 10 of 149 total bound parameter sets ...  (147, 7.943, 0.75), (148, 7.695, 0.46299999999999997))\n"
          ],
          "name": "stderr"
        },
        {
          "output_type": "stream",
          "text": [
            "2021-04-10 06:53:35,412 INFO sqlalchemy.engine.Engine COMMIT\n"
          ],
          "name": "stdout"
        },
        {
          "output_type": "stream",
          "text": [
            "INFO:sqlalchemy.engine.Engine:COMMIT\n"
          ],
          "name": "stderr"
        },
        {
          "output_type": "stream",
          "text": [
            "2021-04-10 06:53:35,427 INFO sqlalchemy.engine.Engine SELECT * FROM dftosqlreport21\n"
          ],
          "name": "stdout"
        },
        {
          "output_type": "stream",
          "text": [
            "INFO:sqlalchemy.engine.Engine:SELECT * FROM dftosqlreport21\n"
          ],
          "name": "stderr"
        },
        {
          "output_type": "stream",
          "text": [
            "2021-04-10 06:53:35,430 INFO sqlalchemy.engine.Engine [raw sql] ()\n"
          ],
          "name": "stdout"
        },
        {
          "output_type": "stream",
          "text": [
            "INFO:sqlalchemy.engine.Engine:[raw sql] ()\n"
          ],
          "name": "stderr"
        },
        {
          "output_type": "execute_result",
          "data": {
            "text/plain": [
              "[(0, 10.775, 0.9540000000000001),\n",
              " (1, 10.933, 0.9540000000000001),\n",
              " (2, 11.117, 0.9420000000000001),\n",
              " (3, 10.878, 0.983),\n",
              " (4, 10.932, 0.9420000000000001),\n",
              " (5, 11.052999999999999, 0.9540000000000001),\n",
              " (6, 10.867, 0.934),\n",
              " (7, 11.647, 0.9079999999999999),\n",
              " (8, 10.642999999999999, 0.948),\n",
              " (9, 10.905999999999999, 0.934),\n",
              " (10, 10.796, 0.94),\n",
              " (11, 10.575, 0.9390000000000001),\n",
              " (12, 10.873, 0.903),\n",
              " (13, 10.776, 0.9259999999999999),\n",
              " (14, 11.342, 0.9470000000000001),\n",
              " (15, 9.88, 0.8909999999999999),\n",
              " (16, 10.707, 0.934),\n",
              " (17, 10.556, 0.9470000000000001),\n",
              " (18, 11.023, 0.92),\n",
              " (19, 10.823, 0.9059999999999999),\n",
              " (20, 10.704, 0.9420000000000001),\n",
              " (21, 10.669, 0.862),\n",
              " (22, 10.674000000000001, 0.9309999999999999),\n",
              " (23, 10.870999999999999, 0.898),\n",
              " (24, 11.085, 0.8440000000000001),\n",
              " (25, 10.743, 0.8909999999999999),\n",
              " (26, 10.571, 0.932),\n",
              " (27, 10.623, 0.88),\n",
              " (28, 10.529000000000002, 0.948),\n",
              " (29, 9.052999999999999, 0.813),\n",
              " (30, 9.966000000000001, 0.925),\n",
              " (31, 11.488, 0.915),\n",
              " (32, 9.318, 0.821),\n",
              " (33, 10.369000000000002, 0.9359999999999999),\n",
              " (34, 9.577, 0.882),\n",
              " (35, 9.859, 0.831),\n",
              " (36, 9.186, 0.877),\n",
              " (37, 10.499, 0.935),\n",
              " (38, 10.575999999999999, 0.802),\n",
              " (39, 10.481, 0.941),\n",
              " (40, 10.35, 0.8959999999999999),\n",
              " (41, 8.836, 0.9179999999999999),\n",
              " (42, 10.071, 0.882),\n",
              " (43, 10.382, 0.898),\n",
              " (44, 10.155, 0.9520000000000001),\n",
              " (45, 10.284, 0.8320000000000001),\n",
              " (46, 10.817, 0.843),\n",
              " (47, 9.787, 0.873),\n",
              " (48, 9.054, 0.762),\n",
              " (49, 10.008, 0.905),\n",
              " (50, 10.315, 0.927),\n",
              " (51, 9.557, 0.847),\n",
              " (52, 10.357999999999999, 0.943),\n",
              " (53, 9.805, 0.888),\n",
              " (54, 8.62, 0.8640000000000001),\n",
              " (55, 10.610999999999999, 0.884),\n",
              " (56, 9.962, 0.898),\n",
              " (57, 10.421, 0.879),\n",
              " (58, 8.648, 0.812),\n",
              " (59, 10.217, 0.924),\n",
              " (60, 9.076, 0.83),\n",
              " (61, 10.651, 0.799),\n",
              " (62, 9.458, 0.8320000000000001),\n",
              " (63, 9.59, 0.87),\n",
              " (64, 9.454, 0.857),\n",
              " (65, 9.312999999999999, 0.821),\n",
              " (66, 8.538, 0.893),\n",
              " (67, 10.279000000000002, 0.823),\n",
              " (68, 9.046, 0.81),\n",
              " (69, 9.4, 0.935),\n",
              " (70, 9.448, 0.893),\n",
              " (71, 9.94, 0.858),\n",
              " (72, 9.802, 0.853),\n",
              " (73, 10.575999999999999, 0.82),\n",
              " (74, 9.853, 0.91),\n",
              " (75, 10.189, 0.903),\n",
              " (76, 11.0, 0.836),\n",
              " (77, 8.091000000000001, 0.86),\n",
              " (78, 8.972999999999999, 0.85),\n",
              " (79, 9.622, 0.8270000000000001),\n",
              " (80, 10.238, 0.8170000000000001),\n",
              " (81, 9.365, 0.8109999999999999),\n",
              " (82, 8.117, 0.636),\n",
              " (83, 9.673, 0.8109999999999999),\n",
              " (84, 8.551, 0.644),\n",
              " (85, 9.487, 0.799),\n",
              " (86, 8.12, 0.774),\n",
              " (87, 10.016, 0.9309999999999999),\n",
              " (88, 9.826, 0.9129999999999999),\n",
              " (89, 9.568999999999999, 0.836),\n",
              " (90, 8.189, 0.71),\n",
              " (91, 8.118, 0.71),\n",
              " (92, 9.52, 0.6970000000000001),\n",
              " (93, 9.693, 0.805),\n",
              " (94, 8.58, 0.727),\n",
              " (95, 7.098, 0.6409999999999999),\n",
              " (96, 9.629, 0.983),\n",
              " (97, 7.686, 0.69),\n",
              " (98, 8.087, 0.489),\n",
              " (99, 8.947000000000001, 0.728),\n",
              " (100, 8.454, 0.693),\n",
              " (101, 7.837999999999999, 0.639),\n",
              " (102, 9.402999999999999, 0.86),\n",
              " (103, 10.24, 0.8220000000000001),\n",
              " (104, 8.458, 0.6509999999999999),\n",
              " (105, 8.902999999999999, 0.56),\n",
              " (106, 9.073, 0.861),\n",
              " (107, 9.585, 0.6709999999999999),\n",
              " (108, 9.342, 0.802),\n",
              " (109, 9.436, 0.888),\n",
              " (110, 9.24, 0.746),\n",
              " (111, 9.603, 0.7759999999999999),\n",
              " (112, 7.678, 0.672),\n",
              " (113, 8.36, 0.765),\n",
              " (114, 7.1579999999999995, 0.7440000000000001),\n",
              " (115, 8.533, 0.74),\n",
              " (116, 7.744, 0.7240000000000001),\n",
              " (117, 9.584, 0.71),\n",
              " (118, 7.6770000000000005, 0.7809999999999999),\n",
              " (119, 7.287999999999999, 0.72),\n",
              " (120, 8.361, 0.688),\n",
              " (121, 9.266, 0.691),\n",
              " (122, 9.626, 0.848),\n",
              " (123, 9.161, 0.818),\n",
              " (124, 8.485, 0.826),\n",
              " (125, 8.541, 0.779),\n",
              " (126, 9.182, 0.767),\n",
              " (127, 7.364, 0.619),\n",
              " (128, 9.47, 0.8270000000000001),\n",
              " (129, 9.065, 0.77),\n",
              " (130, 8.031, 0.626),\n",
              " (131, 9.367, 0.75),\n",
              " (132, 7.694, 0.764),\n",
              " (133, 8.542, 0.795),\n",
              " (134, 7.396, 0.6859999999999999),\n",
              " (135, 7.362, 0.569),\n",
              " (136, 8.145, 0.708),\n",
              " (137, 7.434, 0.63),\n",
              " (138, 8.755, 0.603),\n",
              " (139, 6.635, 0.49),\n",
              " (140, 7.577999999999999, 0.8320000000000001),\n",
              " (141, 7.876, 0.7020000000000001),\n",
              " (142, 7.477, 0.54),\n",
              " (143, 6.957999999999999, 0.537),\n",
              " (144, 7.926, 0.787),\n",
              " (145, 9.782, 0.784),\n",
              " (146, 7.676, 0.552),\n",
              " (147, 7.943, 0.75),\n",
              " (148, 7.695, 0.46299999999999997)]"
            ]
          },
          "metadata": {
            "tags": []
          },
          "execution_count": 57
        }
      ]
    },
    {
      "cell_type": "markdown",
      "metadata": {
        "id": "LZuWZLJ5YyV-"
      },
      "source": [
        "# reference https://www.plus2net.com/python/sqlite-colab.php"
      ]
    }
  ]
}